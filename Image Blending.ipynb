{
 "cells": [
  {
   "cell_type": "markdown",
   "id": "c004af56-94cc-407c-b5b7-884bf39929e1",
   "metadata": {},
   "source": [
    "Image Blending"
   ]
  },
  {
   "cell_type": "code",
   "execution_count": 1,
   "id": "f45716dc-1463-4fdd-8409-bcf533ce7c43",
   "metadata": {},
   "outputs": [],
   "source": [
    "import cv2\n",
    "import numpy as np"
   ]
  },
  {
   "cell_type": "code",
   "execution_count": 18,
   "id": "07ae4736-8968-4922-9271-48431275758b",
   "metadata": {},
   "outputs": [],
   "source": [
    "im1=cv2.imread(\"C:/Users/SN56/Downloads/download paint.png\")\n",
    "im2=cv2.imread(\"C:/Users/SN56/Pictures/paint3.png\")"
   ]
  },
  {
   "cell_type": "code",
   "execution_count": 19,
   "id": "aee81253-964c-42cb-b09e-db4d67b67bcb",
   "metadata": {},
   "outputs": [
    {
     "name": "stdout",
     "output_type": "stream",
     "text": [
      "(177, 284, 3)\n",
      "(550, 1296, 3)\n"
     ]
    }
   ],
   "source": [
    "print(im1.shape)\n",
    "print(im2.shape)"
   ]
  },
  {
   "cell_type": "code",
   "execution_count": 14,
   "id": "1727a490-1a06-4def-8c7d-868b4f8a2e9f",
   "metadata": {},
   "outputs": [],
   "source": [
    "cv2.imshow(\"Img1\",im1)\n",
    "cv2.imshow(\"Img2\",im2)\n",
    "cv2.waitKey(0)\n",
    "cv2.destroyAllWindows()"
   ]
  },
  {
   "cell_type": "code",
   "execution_count": 15,
   "id": "90bed761-8984-44b4-a54d-87483e18fd9f",
   "metadata": {},
   "outputs": [
    {
     "ename": "error",
     "evalue": "OpenCV(4.9.0) D:\\a\\opencv-python\\opencv-python\\opencv\\modules\\core\\src\\arithm.cpp:650: error: (-209:Sizes of input arguments do not match) The operation is neither 'array op array' (where arrays have the same size and the same number of channels), nor 'array op scalar', nor 'scalar op array' in function 'cv::arithm_op'\n",
     "output_type": "error",
     "traceback": [
      "\u001b[1;31m---------------------------------------------------------------------------\u001b[0m",
      "\u001b[1;31merror\u001b[0m                                     Traceback (most recent call last)",
      "Cell \u001b[1;32mIn[15], line 1\u001b[0m\n\u001b[1;32m----> 1\u001b[0m im_blend\u001b[38;5;241m=\u001b[39mcv2\u001b[38;5;241m.\u001b[39maddWeighted(im1,\u001b[38;5;241m1\u001b[39m,im2,\u001b[38;5;241m0.3\u001b[39m,\u001b[38;5;241m0\u001b[39m)\n",
      "\u001b[1;31merror\u001b[0m: OpenCV(4.9.0) D:\\a\\opencv-python\\opencv-python\\opencv\\modules\\core\\src\\arithm.cpp:650: error: (-209:Sizes of input arguments do not match) The operation is neither 'array op array' (where arrays have the same size and the same number of channels), nor 'array op scalar', nor 'scalar op array' in function 'cv::arithm_op'\n"
     ]
    }
   ],
   "source": [
    "\n",
    "im_blend=cv2.addWeighted(im1,1,im2,0.3,0)"
   ]
  },
  {
   "cell_type": "code",
   "execution_count": 10,
   "id": "40381fb1-0d65-4956-a887-90d084706da2",
   "metadata": {},
   "outputs": [
    {
     "ename": "NameError",
     "evalue": "name 'im_blend' is not defined",
     "output_type": "error",
     "traceback": [
      "\u001b[1;31m---------------------------------------------------------------------------\u001b[0m",
      "\u001b[1;31mNameError\u001b[0m                                 Traceback (most recent call last)",
      "Cell \u001b[1;32mIn[10], line 5\u001b[0m\n\u001b[0;32m      3\u001b[0m cv2\u001b[38;5;241m.\u001b[39mimshow(\u001b[38;5;124m\"\u001b[39m\u001b[38;5;124mim2\u001b[39m\u001b[38;5;124m\"\u001b[39m,im2)\n\u001b[0;32m      4\u001b[0m cv2\u001b[38;5;241m.\u001b[39mwaitKey(\u001b[38;5;241m0\u001b[39m)\n\u001b[1;32m----> 5\u001b[0m cv2\u001b[38;5;241m.\u001b[39mimshow(\u001b[38;5;124m\"\u001b[39m\u001b[38;5;124mBlended\u001b[39m\u001b[38;5;124m\"\u001b[39m, im_blend)\n\u001b[0;32m      6\u001b[0m cv2\u001b[38;5;241m.\u001b[39mwaitKey(\u001b[38;5;241m0\u001b[39m)\n\u001b[0;32m      7\u001b[0m cv2\u001b[38;5;241m.\u001b[39mdestroyAllWindows()\n",
      "\u001b[1;31mNameError\u001b[0m: name 'im_blend' is not defined"
     ]
    }
   ],
   "source": [
    "cv2.imshow(\"im1\",im1)\n",
    "cv2.waitKey(0)\n",
    "cv2.imshow(\"im2\",im2)\n",
    "cv2.waitKey(0)\n",
    "cv2.imshow(\"Blended\", im_blend)\n",
    "cv2.waitKey(0)\n",
    "cv2.destroyAllWindows()"
   ]
  },
  {
   "cell_type": "code",
   "execution_count": null,
   "id": "7217d24c-4c18-4cd7-a1c1-bf23ae9c42f6",
   "metadata": {},
   "outputs": [],
   "source": []
  }
 ],
 "metadata": {
  "kernelspec": {
   "display_name": "Python 3 (ipykernel)",
   "language": "python",
   "name": "python3"
  },
  "language_info": {
   "codemirror_mode": {
    "name": "ipython",
    "version": 3
   },
   "file_extension": ".py",
   "mimetype": "text/x-python",
   "name": "python",
   "nbconvert_exporter": "python",
   "pygments_lexer": "ipython3",
   "version": "3.11.7"
  }
 },
 "nbformat": 4,
 "nbformat_minor": 5
}
