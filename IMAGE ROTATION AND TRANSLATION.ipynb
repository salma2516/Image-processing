{
 "cells": [
  {
   "cell_type": "code",
   "execution_count": 1,
   "id": "235321da",
   "metadata": {},
   "outputs": [],
   "source": [
    "import cv2\n",
    "import numpy as np"
   ]
  },
  {
   "cell_type": "code",
   "execution_count": 2,
   "id": "63261c0b",
   "metadata": {},
   "outputs": [],
   "source": [
    "im1=cv2.imread(\"C:/Users/SN56.CSE2-25/Downloads/galaxy.jpg\")"
   ]
  },
  {
   "cell_type": "code",
   "execution_count": 3,
   "id": "9bca764d",
   "metadata": {},
   "outputs": [
    {
     "data": {
      "text/plain": [
       "array([[[22, 12, 18],\n",
       "        [32, 22, 28],\n",
       "        [23, 13, 19],\n",
       "        ...,\n",
       "        [21, 16, 17],\n",
       "        [22, 17, 18],\n",
       "        [25, 20, 21]],\n",
       "\n",
       "       [[34, 24, 30],\n",
       "        [24, 14, 20],\n",
       "        [20, 10, 16],\n",
       "        ...,\n",
       "        [18, 13, 14],\n",
       "        [18, 13, 14],\n",
       "        [19, 14, 15]],\n",
       "\n",
       "       [[34, 27, 32],\n",
       "        [26, 19, 24],\n",
       "        [23, 16, 21],\n",
       "        ...,\n",
       "        [27, 21, 22],\n",
       "        [26, 20, 21],\n",
       "        [23, 17, 18]],\n",
       "\n",
       "       ...,\n",
       "\n",
       "       [[13, 29, 35],\n",
       "        [38, 54, 60],\n",
       "        [53, 69, 75],\n",
       "        ...,\n",
       "        [15, 15, 29],\n",
       "        [ 3,  3, 17],\n",
       "        [ 5,  5, 19]],\n",
       "\n",
       "       [[30, 46, 52],\n",
       "        [40, 56, 62],\n",
       "        [44, 60, 66],\n",
       "        ...,\n",
       "        [16, 14, 26],\n",
       "        [ 3,  1, 13],\n",
       "        [ 5,  3, 15]],\n",
       "\n",
       "       [[25, 41, 47],\n",
       "        [20, 36, 42],\n",
       "        [31, 47, 53],\n",
       "        ...,\n",
       "        [12, 10, 22],\n",
       "        [10,  8, 20],\n",
       "        [ 4,  2, 14]]], dtype=uint8)"
      ]
     },
     "execution_count": 3,
     "metadata": {},
     "output_type": "execute_result"
    }
   ],
   "source": [
    "im1"
   ]
  },
  {
   "cell_type": "code",
   "execution_count": 4,
   "id": "f26243d8",
   "metadata": {},
   "outputs": [
    {
     "name": "stdout",
     "output_type": "stream",
     "text": [
      "(1280, 980, 3)\n"
     ]
    }
   ],
   "source": [
    "\n",
    "shp=im1.shape\n",
    "print (shp)"
   ]
  },
  {
   "cell_type": "code",
   "execution_count": 5,
   "id": "063c142d",
   "metadata": {},
   "outputs": [
    {
     "name": "stdout",
     "output_type": "stream",
     "text": [
      "1280\n",
      "980\n"
     ]
    }
   ],
   "source": [
    "height,width=im1.shape[:2]\n",
    "print(height)\n",
    "print(width)"
   ]
  },
  {
   "cell_type": "code",
   "execution_count": 6,
   "id": "fc51d449",
   "metadata": {},
   "outputs": [
    {
     "data": {
      "text/plain": [
       "(640.0, 490.0)"
      ]
     },
     "execution_count": 6,
     "metadata": {},
     "output_type": "execute_result"
    }
   ],
   "source": [
    "cent=(height/2,width/2)\n",
    "cent"
   ]
  },
  {
   "cell_type": "code",
   "execution_count": 7,
   "id": "2ead1b31",
   "metadata": {},
   "outputs": [],
   "source": [
    "rotation_matrix=cv2.getRotationMatrix2D(center=cent,angle=25,scale=0.3)"
   ]
  },
  {
   "cell_type": "code",
   "execution_count": 8,
   "id": "2bc4d3bd",
   "metadata": {},
   "outputs": [
    {
     "name": "stdout",
     "output_type": "stream",
     "text": [
      "[[ 2.71892336e-01  1.26785479e-01  4.03864020e+02]\n",
      " [-1.26785479e-01  2.71892336e-01  4.37915462e+02]]\n"
     ]
    }
   ],
   "source": [
    "print(rotation_matrix)"
   ]
  },
  {
   "cell_type": "code",
   "execution_count": 9,
   "id": "5bc4ed07",
   "metadata": {},
   "outputs": [],
   "source": [
    "rotated_im=cv2.warpAffine(src=im1,M=rotation_matrix,dsize=(width,height))"
   ]
  },
  {
   "cell_type": "code",
   "execution_count": 10,
   "id": "e9cb7556",
   "metadata": {},
   "outputs": [],
   "source": [
    "cv2.imshow('Orginal image',im1)\n",
    "cv2.waitKey(0)\n",
    "cv2.imshow('Rotated image',rotated_im)\n",
    "cv2.waitKey(0)\n",
    "cv2.destroyAllWindows()"
   ]
  },
  {
   "cell_type": "markdown",
   "id": "312707b2",
   "metadata": {},
   "source": [
    "# translation matrix"
   ]
  },
  {
   "cell_type": "code",
   "execution_count": 11,
   "id": "9bb37e09",
   "metadata": {},
   "outputs": [],
   "source": [
    "tx,ty=width/2,height/2"
   ]
  },
  {
   "cell_type": "code",
   "execution_count": 12,
   "id": "116b6640",
   "metadata": {},
   "outputs": [
    {
     "data": {
      "text/plain": [
       "490.0"
      ]
     },
     "execution_count": 12,
     "metadata": {},
     "output_type": "execute_result"
    }
   ],
   "source": [
    "tx"
   ]
  },
  {
   "cell_type": "code",
   "execution_count": 13,
   "id": "34e50ba1",
   "metadata": {},
   "outputs": [
    {
     "data": {
      "text/plain": [
       "640.0"
      ]
     },
     "execution_count": 13,
     "metadata": {},
     "output_type": "execute_result"
    }
   ],
   "source": [
    "ty"
   ]
  },
  {
   "cell_type": "code",
   "execution_count": 14,
   "id": "506c1c59",
   "metadata": {},
   "outputs": [],
   "source": [
    "Translation_matrix=np.array([[2,0,tx],[1,5,ty]])"
   ]
  },
  {
   "cell_type": "code",
   "execution_count": 15,
   "id": "869b4fd5",
   "metadata": {},
   "outputs": [
    {
     "data": {
      "text/plain": [
       "array([[  2.,   0., 490.],\n",
       "       [  1.,   5., 640.]])"
      ]
     },
     "execution_count": 15,
     "metadata": {},
     "output_type": "execute_result"
    }
   ],
   "source": [
    "Translation_matrix"
   ]
  },
  {
   "cell_type": "code",
   "execution_count": 16,
   "id": "a5565a94",
   "metadata": {},
   "outputs": [],
   "source": [
    "Trans_im=cv2.warpAffine(src=im1,M=rotation_matrix,dsize=(width,height))"
   ]
  },
  {
   "cell_type": "code",
   "execution_count": 17,
   "id": "15e84741",
   "metadata": {},
   "outputs": [],
   "source": [
    "cv2.imshow('Orginal image',im1)\n",
    "cv2.waitKey(0)\n",
    "cv2.imshow('Transimage',Trans_im)\n",
    "cv2.waitKey(0)\n",
    "cv2.destroyAllWindows()"
   ]
  },
  {
   "cell_type": "markdown",
   "id": "4108f4ce",
   "metadata": {},
   "source": []
  },
  {
   "cell_type": "code",
   "execution_count": null,
   "id": "f0fcb245",
   "metadata": {},
   "outputs": [],
   "source": []
  },
  {
   "cell_type": "code",
   "execution_count": null,
   "id": "aa0e5467",
   "metadata": {},
   "outputs": [],
   "source": []
  }
 ],
 "metadata": {
  "kernelspec": {
   "display_name": "Python 3 (ipykernel)",
   "language": "python",
   "name": "python3"
  },
  "language_info": {
   "codemirror_mode": {
    "name": "ipython",
    "version": 3
   },
   "file_extension": ".py",
   "mimetype": "text/x-python",
   "name": "python",
   "nbconvert_exporter": "python",
   "pygments_lexer": "ipython3",
   "version": "3.11.4"
  }
 },
 "nbformat": 4,
 "nbformat_minor": 5
}
