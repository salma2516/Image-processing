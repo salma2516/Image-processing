{
 "cells": [
  {
   "cell_type": "markdown",
   "id": "0862d939-77fa-47ac-9912-e8f5891e6c04",
   "metadata": {},
   "source": [
    "COLOR SPACE CHANGING"
   ]
  },
  {
   "cell_type": "code",
   "execution_count": 1,
   "id": "6c27b919-4ec0-4dc9-94fa-ac565d0643e2",
   "metadata": {},
   "outputs": [
    {
     "ename": "ModuleNotFoundError",
     "evalue": "No module named 'cv2'",
     "output_type": "error",
     "traceback": [
      "\u001b[1;31m---------------------------------------------------------------------------\u001b[0m",
      "\u001b[1;31mModuleNotFoundError\u001b[0m                       Traceback (most recent call last)",
      "Cell \u001b[1;32mIn[1], line 1\u001b[0m\n\u001b[1;32m----> 1\u001b[0m \u001b[38;5;28;01mimport\u001b[39;00m \u001b[38;5;21;01mcv2\u001b[39;00m\n\u001b[0;32m      2\u001b[0m \u001b[38;5;28;01mimport\u001b[39;00m \u001b[38;5;21;01mnumpy\u001b[39;00m \u001b[38;5;28;01mas\u001b[39;00m \u001b[38;5;21;01mnp\u001b[39;00m\n",
      "\u001b[1;31mModuleNotFoundError\u001b[0m: No module named 'cv2'"
     ]
    }
   ],
   "source": [
    "import cv2\n",
    "import numpy as np"
   ]
  },
  {
   "cell_type": "code",
   "execution_count": 2,
   "id": "ab56d4b8-3b22-45ad-8e50-54882915acb2",
   "metadata": {},
   "outputs": [],
   "source": [
    "colors_avl=[i for i in dir(cv2) if i.startswith(\"COLOR_BGR\") ]"
   ]
  },
  {
   "cell_type": "code",
   "execution_count": 3,
   "id": "a987f40f-a14e-400c-8b2d-77644cef14b2",
   "metadata": {},
   "outputs": [
    {
     "name": "stdout",
     "output_type": "stream",
     "text": [
      "['COLOR_BGR2BGR555', 'COLOR_BGR2BGR565', 'COLOR_BGR2BGRA', 'COLOR_BGR2GRAY', 'COLOR_BGR2HLS', 'COLOR_BGR2HLS_FULL', 'COLOR_BGR2HSV', 'COLOR_BGR2HSV_FULL', 'COLOR_BGR2LAB', 'COLOR_BGR2LUV', 'COLOR_BGR2Lab', 'COLOR_BGR2Luv', 'COLOR_BGR2RGB', 'COLOR_BGR2RGBA', 'COLOR_BGR2XYZ', 'COLOR_BGR2YCR_CB', 'COLOR_BGR2YCrCb', 'COLOR_BGR2YUV', 'COLOR_BGR2YUV_I420', 'COLOR_BGR2YUV_IYUV', 'COLOR_BGR2YUV_UYNV', 'COLOR_BGR2YUV_UYVY', 'COLOR_BGR2YUV_Y422', 'COLOR_BGR2YUV_YUNV', 'COLOR_BGR2YUV_YUY2', 'COLOR_BGR2YUV_YUYV', 'COLOR_BGR2YUV_YV12', 'COLOR_BGR2YUV_YVYU', 'COLOR_BGR5552BGR', 'COLOR_BGR5552BGRA', 'COLOR_BGR5552GRAY', 'COLOR_BGR5552RGB', 'COLOR_BGR5552RGBA', 'COLOR_BGR5652BGR', 'COLOR_BGR5652BGRA', 'COLOR_BGR5652GRAY', 'COLOR_BGR5652RGB', 'COLOR_BGR5652RGBA', 'COLOR_BGRA2BGR', 'COLOR_BGRA2BGR555', 'COLOR_BGRA2BGR565', 'COLOR_BGRA2GRAY', 'COLOR_BGRA2RGB', 'COLOR_BGRA2RGBA', 'COLOR_BGRA2YUV_I420', 'COLOR_BGRA2YUV_IYUV', 'COLOR_BGRA2YUV_UYNV', 'COLOR_BGRA2YUV_UYVY', 'COLOR_BGRA2YUV_Y422', 'COLOR_BGRA2YUV_YUNV', 'COLOR_BGRA2YUV_YUY2', 'COLOR_BGRA2YUV_YUYV', 'COLOR_BGRA2YUV_YV12', 'COLOR_BGRA2YUV_YVYU']\n"
     ]
    }
   ],
   "source": [
    "print(colors_avl)"
   ]
  },
  {
   "cell_type": "code",
   "execution_count": 4,
   "id": "2bf507a6-873b-4832-ace0-95f6f715152a",
   "metadata": {},
   "outputs": [],
   "source": [
    "im1=cv2.imread(\"C:/Users/SN56/Downloads/wallpaper.png\")"
   ]
  },
  {
   "cell_type": "code",
   "execution_count": 5,
   "id": "72710262-7e29-4183-b72f-30c691c29489",
   "metadata": {},
   "outputs": [],
   "source": [
    "im3=cv2.cvtColor(im1,cv2.COLOR_BGR2HSV) "
   ]
  },
  {
   "cell_type": "code",
   "execution_count": 18,
   "id": "08ea1a69-29a6-439e-9bfb-b9510652f5f9",
   "metadata": {},
   "outputs": [],
   "source": [
    "cv2.imshow(\"Img1\",im1)\n",
    "cv2.imshow(\"Img2\",im3)\n",
    "cv2.waitKey(0)\n",
    "cv2.destroyAllWindows()\n"
   ]
  },
  {
   "cell_type": "code",
   "execution_count": 8,
   "id": "fe8d2518-9587-487b-9527-2843207dd525",
   "metadata": {},
   "outputs": [],
   "source": [
    "im4=cv2.imread(\"C:/Users/SN56/Downloads/image.jpg\")"
   ]
  },
  {
   "cell_type": "code",
   "execution_count": 10,
   "id": "eb9a480b-a282-4e52-a2a1-e925000f1f41",
   "metadata": {},
   "outputs": [],
   "source": [
    "im5=cv2.cvtColor(im3,cv2.COLOR_BGR2HLS)"
   ]
  },
  {
   "cell_type": "code",
   "execution_count": 17,
   "id": "49a1b1e7-d3a2-4d4d-a9d9-28866db9e8f1",
   "metadata": {},
   "outputs": [],
   "source": [
    "cv2.imshow(\"Img4\",im4)\n",
    "cv2.imshow(\"Img1\",im5)\n",
    "cv2.waitKey(0)\n",
    "cv2.destroyAllWindows()"
   ]
  },
  {
   "cell_type": "code",
   "execution_count": null,
   "id": "76b077f2-72ec-4606-98be-e278c5a02aa5",
   "metadata": {},
   "outputs": [],
   "source": []
  },
  {
   "cell_type": "code",
   "execution_count": null,
   "id": "bb0bbbfe-df57-43f8-ad9e-a3e6250f68b4",
   "metadata": {},
   "outputs": [],
   "source": []
  }
 ],
 "metadata": {
  "kernelspec": {
   "display_name": "Python 3 (ipykernel)",
   "language": "python",
   "name": "python3"
  },
  "language_info": {
   "codemirror_mode": {
    "name": "ipython",
    "version": 3
   },
   "file_extension": ".py",
   "mimetype": "text/x-python",
   "name": "python",
   "nbconvert_exporter": "python",
   "pygments_lexer": "ipython3",
   "version": "3.11.7"
  }
 },
 "nbformat": 4,
 "nbformat_minor": 5
}
